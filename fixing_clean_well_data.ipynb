{
 "cells": [
  {
   "cell_type": "code",
   "execution_count": 2,
   "metadata": {},
   "outputs": [],
   "source": [
    "import pandas as pd\n",
    "import numpy as np\n",
    "import matplotlib.pyplot as plt"
   ]
  },
  {
   "cell_type": "code",
   "execution_count": 3,
   "metadata": {},
   "outputs": [],
   "source": [
    "df = pd.read_csv('clean_new_well_data.csv')"
   ]
  },
  {
   "cell_type": "code",
   "execution_count": 4,
   "metadata": {},
   "outputs": [
    {
     "data": {
      "text/html": [
       "<div>\n",
       "<style scoped>\n",
       "    .dataframe tbody tr th:only-of-type {\n",
       "        vertical-align: middle;\n",
       "    }\n",
       "\n",
       "    .dataframe tbody tr th {\n",
       "        vertical-align: top;\n",
       "    }\n",
       "\n",
       "    .dataframe thead th {\n",
       "        text-align: right;\n",
       "    }\n",
       "</style>\n",
       "<table border=\"1\" class=\"dataframe\">\n",
       "  <thead>\n",
       "    <tr style=\"text-align: right;\">\n",
       "      <th></th>\n",
       "      <th>id</th>\n",
       "      <th>depth</th>\n",
       "      <th>temp</th>\n",
       "      <th>lat</th>\n",
       "      <th>lon</th>\n",
       "      <th>corrtemp</th>\n",
       "    </tr>\n",
       "  </thead>\n",
       "  <tbody>\n",
       "    <tr>\n",
       "      <th>0</th>\n",
       "      <td>4703502978</td>\n",
       "      <td>671.1696</td>\n",
       "      <td>23.648778</td>\n",
       "      <td>38.787043</td>\n",
       "      <td>-81.805252</td>\n",
       "      <td>26.282814</td>\n",
       "    </tr>\n",
       "    <tr>\n",
       "      <th>1</th>\n",
       "      <td>4703502978</td>\n",
       "      <td>671.3220</td>\n",
       "      <td>23.646333</td>\n",
       "      <td>38.787043</td>\n",
       "      <td>-81.805252</td>\n",
       "      <td>26.282814</td>\n",
       "    </tr>\n",
       "    <tr>\n",
       "      <th>2</th>\n",
       "      <td>4703502978</td>\n",
       "      <td>671.4744</td>\n",
       "      <td>23.643444</td>\n",
       "      <td>38.787043</td>\n",
       "      <td>-81.805252</td>\n",
       "      <td>26.282814</td>\n",
       "    </tr>\n",
       "    <tr>\n",
       "      <th>3</th>\n",
       "      <td>4703502978</td>\n",
       "      <td>671.6268</td>\n",
       "      <td>23.640278</td>\n",
       "      <td>38.787043</td>\n",
       "      <td>-81.805252</td>\n",
       "      <td>26.289072</td>\n",
       "    </tr>\n",
       "    <tr>\n",
       "      <th>4</th>\n",
       "      <td>4703502978</td>\n",
       "      <td>671.7792</td>\n",
       "      <td>23.636778</td>\n",
       "      <td>38.787043</td>\n",
       "      <td>-81.805252</td>\n",
       "      <td>26.274419</td>\n",
       "    </tr>\n",
       "    <tr>\n",
       "      <th>...</th>\n",
       "      <td>...</td>\n",
       "      <td>...</td>\n",
       "      <td>...</td>\n",
       "      <td>...</td>\n",
       "      <td>...</td>\n",
       "      <td>...</td>\n",
       "    </tr>\n",
       "    <tr>\n",
       "      <th>582743</th>\n",
       "      <td>4710300645</td>\n",
       "      <td>2021.9670</td>\n",
       "      <td>56.438889</td>\n",
       "      <td>39.678222</td>\n",
       "      <td>-80.823766</td>\n",
       "      <td>64.831685</td>\n",
       "    </tr>\n",
       "    <tr>\n",
       "      <th>582744</th>\n",
       "      <td>4710300645</td>\n",
       "      <td>2022.0432</td>\n",
       "      <td>56.444444</td>\n",
       "      <td>39.678222</td>\n",
       "      <td>-80.823766</td>\n",
       "      <td>64.831685</td>\n",
       "    </tr>\n",
       "    <tr>\n",
       "      <th>582745</th>\n",
       "      <td>4710300645</td>\n",
       "      <td>2022.1194</td>\n",
       "      <td>56.444444</td>\n",
       "      <td>39.678222</td>\n",
       "      <td>-80.823766</td>\n",
       "      <td>64.831685</td>\n",
       "    </tr>\n",
       "    <tr>\n",
       "      <th>582746</th>\n",
       "      <td>4710300645</td>\n",
       "      <td>2022.1956</td>\n",
       "      <td>56.444444</td>\n",
       "      <td>39.678222</td>\n",
       "      <td>-80.823766</td>\n",
       "      <td>64.831685</td>\n",
       "    </tr>\n",
       "    <tr>\n",
       "      <th>582747</th>\n",
       "      <td>4710300645</td>\n",
       "      <td>2022.2718</td>\n",
       "      <td>56.444444</td>\n",
       "      <td>39.678222</td>\n",
       "      <td>-80.823766</td>\n",
       "      <td>64.831685</td>\n",
       "    </tr>\n",
       "  </tbody>\n",
       "</table>\n",
       "<p>582748 rows × 6 columns</p>\n",
       "</div>"
      ],
      "text/plain": [
       "                id      depth       temp        lat        lon   corrtemp\n",
       "0       4703502978   671.1696  23.648778  38.787043 -81.805252  26.282814\n",
       "1       4703502978   671.3220  23.646333  38.787043 -81.805252  26.282814\n",
       "2       4703502978   671.4744  23.643444  38.787043 -81.805252  26.282814\n",
       "3       4703502978   671.6268  23.640278  38.787043 -81.805252  26.289072\n",
       "4       4703502978   671.7792  23.636778  38.787043 -81.805252  26.274419\n",
       "...            ...        ...        ...        ...        ...        ...\n",
       "582743  4710300645  2021.9670  56.438889  39.678222 -80.823766  64.831685\n",
       "582744  4710300645  2022.0432  56.444444  39.678222 -80.823766  64.831685\n",
       "582745  4710300645  2022.1194  56.444444  39.678222 -80.823766  64.831685\n",
       "582746  4710300645  2022.1956  56.444444  39.678222 -80.823766  64.831685\n",
       "582747  4710300645  2022.2718  56.444444  39.678222 -80.823766  64.831685\n",
       "\n",
       "[582748 rows x 6 columns]"
      ]
     },
     "execution_count": 4,
     "metadata": {},
     "output_type": "execute_result"
    }
   ],
   "source": [
    "df"
   ]
  },
  {
   "cell_type": "markdown",
   "metadata": {},
   "source": [
    "# Apply the correct formula for corrtemp (corrected temperature)"
   ]
  },
  {
   "cell_type": "markdown",
   "metadata": {},
   "source": [
    "* T_WVA = -1.99 + 0.00652z, 305 m<z<2606m"
   ]
  },
  {
   "cell_type": "code",
   "execution_count": 5,
   "metadata": {},
   "outputs": [
    {
     "data": {
      "text/plain": [
       "3230.7276"
      ]
     },
     "execution_count": 5,
     "metadata": {},
     "output_type": "execute_result"
    }
   ],
   "source": [
    "max(df.depth)"
   ]
  },
  {
   "cell_type": "code",
   "execution_count": 6,
   "metadata": {},
   "outputs": [
    {
     "data": {
      "image/png": "[encoded data removed]",
      "text/plain": [
       "<Figure size 432x288 with 1 Axes>"
      ]
     },
     "metadata": {
      "needs_background": "light"
     },
     "output_type": "display_data"
    }
   ],
   "source": [
    "plt.hist(df.depth, bins=200)\n",
    "plt.show()"
   ]
  },
  {
   "cell_type": "code",
   "execution_count": 7,
   "metadata": {},
   "outputs": [],
   "source": [
    "new_corrected_temperature = -1.99 + 0.00652*df.depth"
   ]
  },
  {
   "cell_type": "code",
   "execution_count": 8,
   "metadata": {},
   "outputs": [],
   "source": [
    "df.corrtemp = df.temp + new_corrected_temperature"
   ]
  },
  {
   "cell_type": "code",
   "execution_count": 9,
   "metadata": {},
   "outputs": [
    {
     "data": {
      "text/html": [
       "<div>\n",
       "<style scoped>\n",
       "    .dataframe tbody tr th:only-of-type {\n",
       "        vertical-align: middle;\n",
       "    }\n",
       "\n",
       "    .dataframe tbody tr th {\n",
       "        vertical-align: top;\n",
       "    }\n",
       "\n",
       "    .dataframe thead th {\n",
       "        text-align: right;\n",
       "    }\n",
       "</style>\n",
       "<table border=\"1\" class=\"dataframe\">\n",
       "  <thead>\n",
       "    <tr style=\"text-align: right;\">\n",
       "      <th></th>\n",
       "      <th>id</th>\n",
       "      <th>depth</th>\n",
       "      <th>temp</th>\n",
       "      <th>lat</th>\n",
       "      <th>lon</th>\n",
       "      <th>corrtemp</th>\n",
       "    </tr>\n",
       "  </thead>\n",
       "  <tbody>\n",
       "    <tr>\n",
       "      <th>0</th>\n",
       "      <td>4703502978</td>\n",
       "      <td>671.1696</td>\n",
       "      <td>23.648778</td>\n",
       "      <td>38.787043</td>\n",
       "      <td>-81.805252</td>\n",
       "      <td>26.034804</td>\n",
       "    </tr>\n",
       "    <tr>\n",
       "      <th>1</th>\n",
       "      <td>4703502978</td>\n",
       "      <td>671.3220</td>\n",
       "      <td>23.646333</td>\n",
       "      <td>38.787043</td>\n",
       "      <td>-81.805252</td>\n",
       "      <td>26.033353</td>\n",
       "    </tr>\n",
       "    <tr>\n",
       "      <th>2</th>\n",
       "      <td>4703502978</td>\n",
       "      <td>671.4744</td>\n",
       "      <td>23.643444</td>\n",
       "      <td>38.787043</td>\n",
       "      <td>-81.805252</td>\n",
       "      <td>26.031458</td>\n",
       "    </tr>\n",
       "    <tr>\n",
       "      <th>3</th>\n",
       "      <td>4703502978</td>\n",
       "      <td>671.6268</td>\n",
       "      <td>23.640278</td>\n",
       "      <td>38.787043</td>\n",
       "      <td>-81.805252</td>\n",
       "      <td>26.029285</td>\n",
       "    </tr>\n",
       "    <tr>\n",
       "      <th>4</th>\n",
       "      <td>4703502978</td>\n",
       "      <td>671.7792</td>\n",
       "      <td>23.636778</td>\n",
       "      <td>38.787043</td>\n",
       "      <td>-81.805252</td>\n",
       "      <td>26.026778</td>\n",
       "    </tr>\n",
       "    <tr>\n",
       "      <th>...</th>\n",
       "      <td>...</td>\n",
       "      <td>...</td>\n",
       "      <td>...</td>\n",
       "      <td>...</td>\n",
       "      <td>...</td>\n",
       "      <td>...</td>\n",
       "    </tr>\n",
       "    <tr>\n",
       "      <th>582743</th>\n",
       "      <td>4710300645</td>\n",
       "      <td>2021.9670</td>\n",
       "      <td>56.438889</td>\n",
       "      <td>39.678222</td>\n",
       "      <td>-80.823766</td>\n",
       "      <td>67.632114</td>\n",
       "    </tr>\n",
       "    <tr>\n",
       "      <th>582744</th>\n",
       "      <td>4710300645</td>\n",
       "      <td>2022.0432</td>\n",
       "      <td>56.444444</td>\n",
       "      <td>39.678222</td>\n",
       "      <td>-80.823766</td>\n",
       "      <td>67.638166</td>\n",
       "    </tr>\n",
       "    <tr>\n",
       "      <th>582745</th>\n",
       "      <td>4710300645</td>\n",
       "      <td>2022.1194</td>\n",
       "      <td>56.444444</td>\n",
       "      <td>39.678222</td>\n",
       "      <td>-80.823766</td>\n",
       "      <td>67.638663</td>\n",
       "    </tr>\n",
       "    <tr>\n",
       "      <th>582746</th>\n",
       "      <td>4710300645</td>\n",
       "      <td>2022.1956</td>\n",
       "      <td>56.444444</td>\n",
       "      <td>39.678222</td>\n",
       "      <td>-80.823766</td>\n",
       "      <td>67.639160</td>\n",
       "    </tr>\n",
       "    <tr>\n",
       "      <th>582747</th>\n",
       "      <td>4710300645</td>\n",
       "      <td>2022.2718</td>\n",
       "      <td>56.444444</td>\n",
       "      <td>39.678222</td>\n",
       "      <td>-80.823766</td>\n",
       "      <td>67.639657</td>\n",
       "    </tr>\n",
       "  </tbody>\n",
       "</table>\n",
       "<p>582748 rows × 6 columns</p>\n",
       "</div>"
      ],
      "text/plain": [
       "                id      depth       temp        lat        lon   corrtemp\n",
       "0       4703502978   671.1696  23.648778  38.787043 -81.805252  26.034804\n",
       "1       4703502978   671.3220  23.646333  38.787043 -81.805252  26.033353\n",
       "2       4703502978   671.4744  23.643444  38.787043 -81.805252  26.031458\n",
       "3       4703502978   671.6268  23.640278  38.787043 -81.805252  26.029285\n",
       "4       4703502978   671.7792  23.636778  38.787043 -81.805252  26.026778\n",
       "...            ...        ...        ...        ...        ...        ...\n",
       "582743  4710300645  2021.9670  56.438889  39.678222 -80.823766  67.632114\n",
       "582744  4710300645  2022.0432  56.444444  39.678222 -80.823766  67.638166\n",
       "582745  4710300645  2022.1194  56.444444  39.678222 -80.823766  67.638663\n",
       "582746  4710300645  2022.1956  56.444444  39.678222 -80.823766  67.639160\n",
       "582747  4710300645  2022.2718  56.444444  39.678222 -80.823766  67.639657\n",
       "\n",
       "[582748 rows x 6 columns]"
      ]
     },
     "execution_count": 9,
     "metadata": {},
     "output_type": "execute_result"
    }
   ],
   "source": [
    "df"
   ]
  },
  {
   "cell_type": "code",
   "execution_count": 10,
   "metadata": {},
   "outputs": [],
   "source": [
    "df.to_csv('clean_new_well_data_fixed.csv', index=False)"
   ]
  },
  {
   "cell_type": "code",
   "execution_count": null,
   "metadata": {},
   "outputs": [],
   "source": []
  }
 ],
 "metadata": {
  "kernelspec": {
   "display_name": "Python 3",
   "language": "python",
   "name": "python3"
  },
  "language_info": {
   "codemirror_mode": {
    "name": "ipython",
    "version": 3
   },
   "file_extension": ".py",
   "mimetype": "text/x-python",
   "name": "python",
   "nbconvert_exporter": "python",
   "pygments_lexer": "ipython3",
   "version": "3.8.5"
  }
 },
 "nbformat": 4,
 "nbformat_minor": 4
}
