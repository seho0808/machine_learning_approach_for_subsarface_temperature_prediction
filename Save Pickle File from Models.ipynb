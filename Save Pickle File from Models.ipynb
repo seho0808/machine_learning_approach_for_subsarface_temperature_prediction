{
 "cells": [
  {
   "cell_type": "markdown",
   "metadata": {},
   "source": [
    "# Data Preprocessing\n",
    "* Below codes are identical to the first half of \"Final Metrics and Graphs.ipynb\""
   ]
  },
  {
   "cell_type": "code",
   "execution_count": 1,
   "metadata": {},
   "outputs": [],
   "source": [
    "import pandas as pd\n",
    "import numpy as np\n",
    "import matplotlib.pyplot as plt\n",
    "import matplotlib as mpl\n",
    "mpl.rcParams['figure.dpi']= 150\n",
    "\n",
    "df = pd.read_excel('AASG_Thermed_AllThicksAndConds.xlsx')\n",
    "df2 = pd.read_csv('clean_new_well_data_fixed.csv')"
   ]
  },
  {
   "cell_type": "code",
   "execution_count": 6,
   "metadata": {},
   "outputs": [
    {
     "name": "stdout",
     "output_type": "stream",
     "text": [
      "numbere of outliers removed:  263\n"
     ]
    }
   ],
   "source": [
    "def outlierDrop(df,df_toCheck,std_cut_off):\n",
    "    init_len = df.shape[0]\n",
    "    for i in df_toCheck:\n",
    "        mean = df[i].mean()\n",
    "        std = df[i].std()\n",
    "        cut_off = std * std_cut_off\n",
    "        lower, upper =mean - cut_off, mean + cut_off\n",
    "        df = df[(df[i] < upper) & (df[i] > lower)]\n",
    "    print(\"numbere of outliers removed: \", init_len - df.shape[0])\n",
    "    return df\n",
    "#df = outlierDrop(df,['CorrBHT', 'HeatFlow','MeasureDepth_m'],4)\n",
    "df = outlierDrop(df,['HeatFlow'],3)\n",
    "df = df[df['HeatFlow']>0]\n",
    "\n",
    "df.reset_index(inplace=True, drop=True)\n",
    "\n",
    "layers = df.iloc[:,52:101].values\n",
    "conds = df.iloc[:,101:150].values\n",
    "mult = np.multiply(layers,conds)"
   ]
  },
  {
   "cell_type": "markdown",
   "metadata": {},
   "source": [
    "# Save the XGB model as a pickle file"
   ]
  },
  {
   "cell_type": "code",
   "execution_count": 7,
   "metadata": {},
   "outputs": [],
   "source": [
    "import xgboost as xgb"
   ]
  },
  {
   "cell_type": "code",
   "execution_count": 8,
   "metadata": {},
   "outputs": [],
   "source": [
    "gbm = xgb.XGBRegressor(learning_rate=0.01,  \n",
    "                           objective='reg:squarederror', \n",
    "                           n_estimators=2000, \n",
    "                           reg_alpha=1,\n",
    "                           reg_lambda=10,\n",
    "                           max_depth=10, \n",
    "                           gamma=0.1)\n",
    "X_train = np.transpose(np.array([df.LatDegree,\n",
    "                                df.LongDegree,\n",
    "                                df.MeasureDepth_m,\n",
    "                                df.SurfTemp]))\n",
    "y_train = df.CorrBHT.values"
   ]
  },
  {
   "cell_type": "code",
   "execution_count": 9,
   "metadata": {},
   "outputs": [],
   "source": [
    "X_train = np.concatenate((X_train, mult),axis=1)"
   ]
  },
  {
   "cell_type": "code",
   "execution_count": 10,
   "metadata": {},
   "outputs": [
    {
     "data": {
      "text/plain": [
       "XGBRegressor(base_score=0.5, booster='gbtree', colsample_bylevel=1,\n",
       "             colsample_bynode=1, colsample_bytree=1, gamma=0.1, gpu_id=-1,\n",
       "             importance_type='gain', interaction_constraints='',\n",
       "             learning_rate=0.01, max_delta_step=0, max_depth=10,\n",
       "             min_child_weight=1, missing=nan, monotone_constraints='()',\n",
       "             n_estimators=2000, n_jobs=6, num_parallel_tree=1, random_state=0,\n",
       "             reg_alpha=1, reg_lambda=10, scale_pos_weight=1, subsample=1,\n",
       "             tree_method='exact', validate_parameters=1, verbosity=None)"
      ]
     },
     "execution_count": 10,
     "metadata": {},
     "output_type": "execute_result"
    }
   ],
   "source": [
    "gbm.fit(X_train,y_train)"
   ]
  },
  {
   "cell_type": "code",
   "execution_count": 13,
   "metadata": {},
   "outputs": [],
   "source": [
    "import pickle\n",
    "pickle.dump(gbm, open('xgbSaved.pkl','wb'))"
   ]
  },
  {
   "cell_type": "markdown",
   "metadata": {},
   "source": [
    "# DNN pickle cannot seem to save from our api as below (thread error). Hence, we only provide XGB pickle file that is trained."
   ]
  },
  {
   "cell_type": "code",
   "execution_count": 11,
   "metadata": {},
   "outputs": [
    {
     "data": {
      "text/plain": [
       "<tensorflow.python.keras.callbacks.History at 0x239ab7a5370>"
      ]
     },
     "execution_count": 11,
     "metadata": {},
     "output_type": "execute_result"
    }
   ],
   "source": [
    "import tensorflow as tf\n",
    "from tensorflow.keras.models import Sequential\n",
    "from tensorflow.keras.layers import Dense\n",
    "from tensorflow.keras.wrappers.scikit_learn import KerasRegressor\n",
    "from sklearn.model_selection import cross_val_score\n",
    "from sklearn.model_selection import KFold\n",
    "from tensorflow.keras import regularizers\n",
    "from sklearn.model_selection import train_test_split\n",
    "import sklearn.metrics as m\n",
    "def baseline_model():\n",
    "    # create model\n",
    "    # Sequential model is for just building up each layer\n",
    "    model = Sequential()\n",
    "    # Kernel initializer sets up the distribution for the random parameters\n",
    "    model.add(Dense(50, #kernel_regularizer=regularizers.l2(0.1),\n",
    "                    kernel_initializer='normal', activation='relu'))\n",
    "    model.add(Dense(50, #kernel_regularizer=regularizers.l2(0.1),\n",
    "                    kernel_initializer='normal', activation='relu'))    \n",
    "    model.add(Dense(1, kernel_initializer='normal', activation='relu'))\n",
    "    # Compile model\n",
    "    model.compile(loss='mean_squared_error', optimizer='adam')\n",
    "    return model\n",
    "\n",
    "\n",
    "model = KerasRegressor(build_fn=baseline_model, epochs=150, batch_size=50, verbose=0)\n",
    "model.fit(X_train, y_train)"
   ]
  },
  {
   "cell_type": "code",
   "execution_count": 16,
   "metadata": {},
   "outputs": [
    {
     "ename": "TypeError",
     "evalue": "cannot pickle '_thread.RLock' object",
     "output_type": "error",
     "traceback": [
      "\u001b[1;31m---------------------------------------------------------------------------\u001b[0m",
      "\u001b[1;31mTypeError\u001b[0m                                 Traceback (most recent call last)",
      "\u001b[1;32m<ipython-input-16-0e8dd36d1511>\u001b[0m in \u001b[0;36m<module>\u001b[1;34m\u001b[0m\n\u001b[1;32m----> 1\u001b[1;33m \u001b[0mpickle\u001b[0m\u001b[1;33m.\u001b[0m\u001b[0mdump\u001b[0m\u001b[1;33m(\u001b[0m\u001b[0mmodel\u001b[0m\u001b[1;33m,\u001b[0m \u001b[0mopen\u001b[0m\u001b[1;33m(\u001b[0m\u001b[1;34m'dnnSaved.pkl'\u001b[0m\u001b[1;33m,\u001b[0m\u001b[1;34m'wb'\u001b[0m\u001b[1;33m)\u001b[0m\u001b[1;33m)\u001b[0m\u001b[1;33m\u001b[0m\u001b[1;33m\u001b[0m\u001b[0m\n\u001b[0m",
      "\u001b[1;31mTypeError\u001b[0m: cannot pickle '_thread.RLock' object"
     ]
    }
   ],
   "source": [
    "pickle.dump(model, open('dnnSaved.pkl','wb'))"
   ]
  },
  {
   "cell_type": "code",
   "execution_count": null,
   "metadata": {},
   "outputs": [],
   "source": []
  },
  {
   "cell_type": "code",
   "execution_count": null,
   "metadata": {},
   "outputs": [],
   "source": []
  },
  {
   "cell_type": "code",
   "execution_count": null,
   "metadata": {},
   "outputs": [],
   "source": []
  },
  {
   "cell_type": "code",
   "execution_count": null,
   "metadata": {},
   "outputs": [],
   "source": []
  }
 ],
 "metadata": {
  "kernelspec": {
   "display_name": "Python 3",
   "language": "python",
   "name": "python3"
  },
  "language_info": {
   "codemirror_mode": {
    "name": "ipython",
    "version": 3
   },
   "file_extension": ".py",
   "mimetype": "text/x-python",
   "name": "python",
   "nbconvert_exporter": "python",
   "pygments_lexer": "ipython3",
   "version": "3.8.3"
  }
 },
 "nbformat": 4,
 "nbformat_minor": 4
}
